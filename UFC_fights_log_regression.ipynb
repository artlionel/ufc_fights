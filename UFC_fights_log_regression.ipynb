{
 "cells": [
  {
   "cell_type": "markdown",
   "metadata": {},
   "source": [
    "**Analysis of historical UFC fights and development of a logistic regression clasification model to predict UFC fight winners**"
   ]
  },
  {
   "cell_type": "markdown",
   "metadata": {},
   "source": [
    "Import relevant libraries"
   ]
  },
  {
   "cell_type": "code",
   "execution_count": 1,
   "metadata": {},
   "outputs": [],
   "source": [
    "import pandas as pd\n",
    "import numpy as np\n",
    "import matplotlib.pyplot as plt\n",
    "from scipy import stats\n",
    "from sklearn.model_selection import train_test_split\n",
    "from sklearn.linear_model import LogisticRegression\n",
    "from sklearn import metrics"
   ]
  },
  {
   "cell_type": "markdown",
   "metadata": {},
   "source": [
    "**Read data as panda Data Frame:**\n",
    "Data consists of 3592 UFC fights with 160 features describing fighter physical attributes and records before each fight"
   ]
  },
  {
   "cell_type": "code",
   "execution_count": 2,
   "metadata": {},
   "outputs": [
    {
     "data": {
      "text/html": [
       "<div>\n",
       "<style scoped>\n",
       "    .dataframe tbody tr th:only-of-type {\n",
       "        vertical-align: middle;\n",
       "    }\n",
       "\n",
       "    .dataframe tbody tr th {\n",
       "        vertical-align: top;\n",
       "    }\n",
       "\n",
       "    .dataframe thead th {\n",
       "        text-align: right;\n",
       "    }\n",
       "</style>\n",
       "<table border=\"1\" class=\"dataframe\">\n",
       "  <thead>\n",
       "    <tr style=\"text-align: right;\">\n",
       "      <th></th>\n",
       "      <th>Winner</th>\n",
       "      <th>title_bout</th>\n",
       "      <th>no_of_rounds</th>\n",
       "      <th>B_current_lose_streak</th>\n",
       "      <th>B_current_win_streak</th>\n",
       "      <th>B_draw</th>\n",
       "      <th>B_avg_BODY_att</th>\n",
       "      <th>B_avg_BODY_landed</th>\n",
       "      <th>B_avg_CLINCH_att</th>\n",
       "      <th>B_avg_CLINCH_landed</th>\n",
       "      <th>...</th>\n",
       "      <th>weight_class_Women's Strawweight</th>\n",
       "      <th>B_Stance_Open Stance</th>\n",
       "      <th>B_Stance_Orthodox</th>\n",
       "      <th>B_Stance_Sideways</th>\n",
       "      <th>B_Stance_Southpaw</th>\n",
       "      <th>B_Stance_Switch</th>\n",
       "      <th>R_Stance_Open Stance</th>\n",
       "      <th>R_Stance_Orthodox</th>\n",
       "      <th>R_Stance_Southpaw</th>\n",
       "      <th>R_Stance_Switch</th>\n",
       "    </tr>\n",
       "  </thead>\n",
       "  <tbody>\n",
       "    <tr>\n",
       "      <th>0</th>\n",
       "      <td>Red</td>\n",
       "      <td>True</td>\n",
       "      <td>5</td>\n",
       "      <td>0.0</td>\n",
       "      <td>4.0</td>\n",
       "      <td>0.0</td>\n",
       "      <td>9.200000</td>\n",
       "      <td>6.000000</td>\n",
       "      <td>0.200000</td>\n",
       "      <td>0.000000</td>\n",
       "      <td>...</td>\n",
       "      <td>0</td>\n",
       "      <td>0</td>\n",
       "      <td>1</td>\n",
       "      <td>0</td>\n",
       "      <td>0</td>\n",
       "      <td>0</td>\n",
       "      <td>0</td>\n",
       "      <td>1</td>\n",
       "      <td>0</td>\n",
       "      <td>0</td>\n",
       "    </tr>\n",
       "    <tr>\n",
       "      <th>1</th>\n",
       "      <td>Red</td>\n",
       "      <td>True</td>\n",
       "      <td>5</td>\n",
       "      <td>0.0</td>\n",
       "      <td>3.0</td>\n",
       "      <td>0.0</td>\n",
       "      <td>14.600000</td>\n",
       "      <td>9.100000</td>\n",
       "      <td>11.800000</td>\n",
       "      <td>7.300000</td>\n",
       "      <td>...</td>\n",
       "      <td>0</td>\n",
       "      <td>0</td>\n",
       "      <td>1</td>\n",
       "      <td>0</td>\n",
       "      <td>0</td>\n",
       "      <td>0</td>\n",
       "      <td>0</td>\n",
       "      <td>0</td>\n",
       "      <td>1</td>\n",
       "      <td>0</td>\n",
       "    </tr>\n",
       "    <tr>\n",
       "      <th>2</th>\n",
       "      <td>Red</td>\n",
       "      <td>False</td>\n",
       "      <td>3</td>\n",
       "      <td>0.0</td>\n",
       "      <td>3.0</td>\n",
       "      <td>0.0</td>\n",
       "      <td>15.354839</td>\n",
       "      <td>11.322581</td>\n",
       "      <td>6.741935</td>\n",
       "      <td>4.387097</td>\n",
       "      <td>...</td>\n",
       "      <td>0</td>\n",
       "      <td>0</td>\n",
       "      <td>1</td>\n",
       "      <td>0</td>\n",
       "      <td>0</td>\n",
       "      <td>0</td>\n",
       "      <td>0</td>\n",
       "      <td>1</td>\n",
       "      <td>0</td>\n",
       "      <td>0</td>\n",
       "    </tr>\n",
       "    <tr>\n",
       "      <th>3</th>\n",
       "      <td>Blue</td>\n",
       "      <td>False</td>\n",
       "      <td>3</td>\n",
       "      <td>0.0</td>\n",
       "      <td>4.0</td>\n",
       "      <td>0.0</td>\n",
       "      <td>17.000000</td>\n",
       "      <td>14.000000</td>\n",
       "      <td>13.750000</td>\n",
       "      <td>11.000000</td>\n",
       "      <td>...</td>\n",
       "      <td>0</td>\n",
       "      <td>0</td>\n",
       "      <td>0</td>\n",
       "      <td>0</td>\n",
       "      <td>0</td>\n",
       "      <td>1</td>\n",
       "      <td>0</td>\n",
       "      <td>1</td>\n",
       "      <td>0</td>\n",
       "      <td>0</td>\n",
       "    </tr>\n",
       "    <tr>\n",
       "      <th>4</th>\n",
       "      <td>Blue</td>\n",
       "      <td>False</td>\n",
       "      <td>3</td>\n",
       "      <td>0.0</td>\n",
       "      <td>1.0</td>\n",
       "      <td>0.0</td>\n",
       "      <td>17.000000</td>\n",
       "      <td>14.500000</td>\n",
       "      <td>2.500000</td>\n",
       "      <td>2.000000</td>\n",
       "      <td>...</td>\n",
       "      <td>0</td>\n",
       "      <td>0</td>\n",
       "      <td>0</td>\n",
       "      <td>0</td>\n",
       "      <td>1</td>\n",
       "      <td>0</td>\n",
       "      <td>0</td>\n",
       "      <td>0</td>\n",
       "      <td>1</td>\n",
       "      <td>0</td>\n",
       "    </tr>\n",
       "  </tbody>\n",
       "</table>\n",
       "<p>5 rows × 160 columns</p>\n",
       "</div>"
      ],
      "text/plain": [
       "  Winner  title_bout  no_of_rounds  B_current_lose_streak  \\\n",
       "0    Red        True             5                    0.0   \n",
       "1    Red        True             5                    0.0   \n",
       "2    Red       False             3                    0.0   \n",
       "3   Blue       False             3                    0.0   \n",
       "4   Blue       False             3                    0.0   \n",
       "\n",
       "   B_current_win_streak  B_draw  B_avg_BODY_att  B_avg_BODY_landed  \\\n",
       "0                   4.0     0.0        9.200000           6.000000   \n",
       "1                   3.0     0.0       14.600000           9.100000   \n",
       "2                   3.0     0.0       15.354839          11.322581   \n",
       "3                   4.0     0.0       17.000000          14.000000   \n",
       "4                   1.0     0.0       17.000000          14.500000   \n",
       "\n",
       "   B_avg_CLINCH_att  B_avg_CLINCH_landed  ...  \\\n",
       "0          0.200000             0.000000  ...   \n",
       "1         11.800000             7.300000  ...   \n",
       "2          6.741935             4.387097  ...   \n",
       "3         13.750000            11.000000  ...   \n",
       "4          2.500000             2.000000  ...   \n",
       "\n",
       "   weight_class_Women's Strawweight  B_Stance_Open Stance  B_Stance_Orthodox  \\\n",
       "0                                 0                     0                  1   \n",
       "1                                 0                     0                  1   \n",
       "2                                 0                     0                  1   \n",
       "3                                 0                     0                  0   \n",
       "4                                 0                     0                  0   \n",
       "\n",
       "   B_Stance_Sideways  B_Stance_Southpaw  B_Stance_Switch  \\\n",
       "0                  0                  0                0   \n",
       "1                  0                  0                0   \n",
       "2                  0                  0                0   \n",
       "3                  0                  0                1   \n",
       "4                  0                  1                0   \n",
       "\n",
       "   R_Stance_Open Stance  R_Stance_Orthodox  R_Stance_Southpaw  R_Stance_Switch  \n",
       "0                     0                  1                  0                0  \n",
       "1                     0                  0                  1                0  \n",
       "2                     0                  1                  0                0  \n",
       "3                     0                  1                  0                0  \n",
       "4                     0                  0                  1                0  \n",
       "\n",
       "[5 rows x 160 columns]"
      ]
     },
     "execution_count": 2,
     "metadata": {},
     "output_type": "execute_result"
    }
   ],
   "source": [
    "df = pd.read_csv('ufc_data2.csv')\n",
    "df.head()"
   ]
  },
  {
   "cell_type": "markdown",
   "metadata": {},
   "source": [
    "**In the logistic regression model, the target label will be the outcome of fight for the \"red\" fighter\"**\n"
   ]
  },
  {
   "cell_type": "markdown",
   "metadata": {},
   "source": [
    "Create a binnary variable for red (corner) fighter to be used as target label (winner (1) or loser (0))"
   ]
  },
  {
   "cell_type": "code",
   "execution_count": 4,
   "metadata": {},
   "outputs": [
    {
     "name": "stdout",
     "output_type": "stream",
     "text": [
      "[1. 1. 1. 0. 0.]\n"
     ]
    }
   ],
   "source": [
    "winner_bn = np.zeros(len(df.Winner))\n",
    "idx_red = np.where(df.Winner == 'Red')\n",
    "idx_red = np.asarray(idx_red)\n",
    "idx_red = np.squeeze(idx_red)\n",
    "winner_bn[idx_red] = 1\n",
    "print(winner_bn[0:5])"
   ]
  },
  {
   "cell_type": "markdown",
   "metadata": {},
   "source": [
    "**Initial analysis:** Evaluate general features of winning fighters\n"
   ]
  },
  {
   "cell_type": "code",
   "execution_count": 5,
   "metadata": {},
   "outputs": [],
   "source": [
    "ratio_red = df.R_wins/df.R_losses\n",
    "ratio_red = np.where(ratio_red == float('inf'), 1, ratio_red) \n",
    "ratio_blue = df.B_wins/df.B_losses\n",
    "ratio_blue = np.where(ratio_blue == float('inf'), 1, ratio_blue) \n",
    "ratio = np.zeros(len(df.Winner))\n",
    "reach = np.zeros(len(df.Winner))\n",
    "age = np.zeros(len(df.Winner))\n",
    "weight = np.zeros(len(df.Winner))\n",
    "height = np.zeros(len(df.Winner))\n",
    "streak = np.zeros(len(df.Winner))\n",
    "strikes = np.zeros(len(df.Winner))\n",
    "corner = np.zeros(len(df.Winner))\n",
    "takedowns = np.zeros(len(df.Winner))\n",
    "for n in range(len(df.Winner)):\n",
    "    if df.Winner[n] == 'Red':\n",
    "        reach[n] =  df.R_Reach_cms[n] - df.B_Reach_cms[n]\n",
    "        age[n] =  df.R_age[n] - df.B_age[n]\n",
    "        weight[n] =  df.R_Weight_lbs[n] - df.B_Weight_lbs[n]\n",
    "        height[n] =  df.R_Height_cms[n] - df.B_Height_cms[n]\n",
    "        streak[n] = df.R_current_win_streak[n] - df.B_current_win_streak[n]\n",
    "        strikes[n] = df.R_avg_TOTAL_STR_landed[n] - df.B_avg_TOTAL_STR_landed[n]\n",
    "        ratio[n] = ratio_red[n] - ratio_blue[n] \n",
    "        takedowns[n] = df.R_avg_TD_landed[n] - df.B_avg_TD_landed[n]\n",
    "        corner[n] = 1\n",
    "        reach[n] =  df.B_Reach_cms[n] - df.R_Reach_cms[n]\n",
    "    elif df.Winner[n] == 'Blue':\n",
    "        age[n] =  df.B_age[n] - df.R_age[n]\n",
    "        weight[n] =  df.B_Weight_lbs[n] - df.R_Weight_lbs[n]\n",
    "        height[n] =  df.B_Height_cms[n] - df.R_Height_cms[n]\n",
    "        streak[n] = df.B_current_win_streak[n] - df.R_current_win_streak[n]\n",
    "        strikes[n] = df.B_avg_TOTAL_STR_landed[n] - df.R_avg_TOTAL_STR_landed[n]\n",
    "        ratio[n] = ratio_blue[n] - ratio_red[n]\n",
    "        corner[n] = 0\n",
    "        takedowns[n] = df.R_avg_TD_landed[n] - df.B_avg_TD_landed[n]"
   ]
  },
  {
   "cell_type": "markdown",
   "metadata": {},
   "source": [
    "**Normalize features for comparison:** Subsract mean and divide by standard deviation"
   ]
  },
  {
   "cell_type": "code",
   "execution_count": 6,
   "metadata": {},
   "outputs": [],
   "source": [
    "age_norm = (age - np.nanmean(age)) / np.nanstd(age)\n",
    "height_norm = (height - np.nanmean(height)) / np.nanstd(height)\n",
    "weight_norm = (weight - np.nanmean(weight)) / np.nanstd(weight)\n",
    "reach_norm = (reach - np.nanmean(reach)) / np.nanstd(reach)\n",
    "streak_norm = (streak - np.nanmean(streak)) / np.nanstd(streak)\n",
    "takedowns_norm = (takedowns - np.nanmean(takedowns)) / np.nanstd(takedowns)\n",
    "strikes_norm = (strikes - np.nanmean(strikes)) / np.nanstd(strikes)"
   ]
  },
  {
   "cell_type": "markdown",
   "metadata": {},
   "source": [
    "Produce boxplot to evaluate features of winning fighters\n"
   ]
  },
  {
   "cell_type": "code",
   "execution_count": 7,
   "metadata": {},
   "outputs": [
    {
     "data": {
      "text/plain": [
       "([<matplotlib.axis.XTick at 0x127d05850>,\n",
       "  <matplotlib.axis.XTick at 0x127ce8e10>,\n",
       "  <matplotlib.axis.XTick at 0x1281c8510>,\n",
       "  <matplotlib.axis.XTick at 0x1281d48d0>,\n",
       "  <matplotlib.axis.XTick at 0x1281d4a10>,\n",
       "  <matplotlib.axis.XTick at 0x128c87c90>,\n",
       "  <matplotlib.axis.XTick at 0x128c92290>],\n",
       " <a list of 7 Text xticklabel objects>)"
      ]
     },
     "execution_count": 7,
     "metadata": {},
     "output_type": "execute_result"
    },
    {
     "data": {
      "image/png": "[encoded data removed]",
      "text/plain": [
       "<Figure size 432x288 with 1 Axes>"
      ]
     },
     "metadata": {
      "needs_background": "light"
     },
     "output_type": "display_data"
    }
   ],
   "source": [
    "data_for_boxplot = np.stack((age_norm,height_norm,weight_norm,reach_norm,streak_norm,strikes_norm,takedowns_norm),1)\n",
    "plt.boxplot(data_for_boxplot)\n",
    "axes = plt.gca()\n",
    "axes.set_ylim([-5,5])\n",
    "plt.ylabel('Normalized Score')\n",
    "plt.title('Relative advantage of winning fighters')\n",
    "plt.xticks([1, 2, 3, 4, 5, 6, 7], ['age', 'height', 'weight', 'reach', 'streak','red corner','strikes','take downs'])"
   ]
  },
  {
   "cell_type": "markdown",
   "metadata": {},
   "source": [
    "**No clear difference is observed:** A secondary visual analysis is carried out evaluating whether the simple presence of a difference/advantage can determine the winning fighter"
   ]
  },
  {
   "cell_type": "code",
   "execution_count": 8,
   "metadata": {},
   "outputs": [],
   "source": [
    "ratio_bn = np.zeros(len(df.Winner))\n",
    "reach_bn = np.zeros(len(df.Winner))\n",
    "age_bn = np.zeros(len(df.Winner))\n",
    "height_bn = np.zeros(len(df.Winner))\n",
    "weight_bn = np.zeros(len(df.Winner))\n",
    "streak_bn = np.zeros(len(df.Winner))\n",
    "strikes_bn = np.zeros(len(df.Winner))\n",
    "takedowns_bn = np.zeros(len(df.Winner))\n",
    "for n in range(len(df.Winner)):\n",
    "    if reach[n] > 0:\n",
    "        reach_bn[n] = 1\n",
    "    elif reach[n] < 0:\n",
    "        reach_bn[n] = -1\n",
    "    if age[n] > 0:\n",
    "        age_bn[n] = 1\n",
    "    elif age[n] < 0:\n",
    "        age_bn[n] = -1\n",
    "    if streak[n] > 0:\n",
    "        streak_bn[n] = 1\n",
    "    elif streak[n] < 0:\n",
    "        streak_bn[n] = -1\n",
    "    if strikes[n] > 0:\n",
    "       strikes_bn[n] = 1\n",
    "    elif strikes[n] < 0:\n",
    "        strikes_bn[n] = -1       \n",
    "    if ratio[n] > 0:\n",
    "       ratio_bn[n] = 1\n",
    "    elif ratio[n] < 0:\n",
    "        ratio_bn[n] = -1\n",
    "    if height[n] > 0:\n",
    "       height_bn[n] = 1\n",
    "    elif height[n] < 0:\n",
    "        height_bn[n] = -1              \n",
    "    if weight[n] > 0:\n",
    "       weight_bn[n] = 1\n",
    "    elif weight[n] < 0:\n",
    "        weight_bn[n] = -1      \n",
    "    if takedowns[n] > 0:\n",
    "       takedowns_bn[n] = 1\n",
    "    elif takedowns[n] < 0:\n",
    "        takedowns_bn[n] = -1"
   ]
  },
  {
   "cell_type": "markdown",
   "metadata": {},
   "source": [
    "Calculate the number of times the advantage is positve or negative (e.g., how many times was the winning fighter older/younger than his opponent "
   ]
  },
  {
   "cell_type": "code",
   "execution_count": 9,
   "metadata": {},
   "outputs": [],
   "source": [
    "reach_pos = np.where(reach_bn == 1)\n",
    "reach_pos = np.asarray(reach_pos)\n",
    "reach_pos = reach_pos.size\n",
    "reach_neg = np.where(reach_bn == -1)\n",
    "reach_neg = np.asarray(reach_neg)\n",
    "reach_neg = reach_neg.size\n",
    "\n",
    "age_pos = np.where(age_bn == 1)\n",
    "age_pos = np.asarray(age_pos)\n",
    "age_pos = age_pos.size\n",
    "age_neg = np.where(age_bn == -1)\n",
    "age_neg = np.asarray(age_neg)\n",
    "age_neg = age_neg.size\n",
    "\n",
    "height_pos = np.where(height_bn == 1)\n",
    "height_pos = np.asarray(height_pos)\n",
    "height_pos = height_pos.size\n",
    "height_neg = np.where(height_bn == -1)\n",
    "height_neg = np.asarray(height_neg)\n",
    "height_neg = height_neg.size\n",
    "\n",
    "weight_pos = np.where(weight_bn == 1)\n",
    "weight_pos = np.asarray(weight_pos)\n",
    "weight_pos = weight_pos.size\n",
    "weight_neg = np.where(weight_bn == -1)\n",
    "weight_neg = np.asarray(weight_neg)\n",
    "weight_neg = weight_neg.size\n",
    "\n",
    "streak_pos = np.where(streak_bn == 1)\n",
    "streak_pos = np.asarray(streak_pos)\n",
    "streak_pos = streak_pos.size\n",
    "streak_neg = np.where(streak_bn == -1)\n",
    "streak_neg = np.asarray(streak_neg)\n",
    "streak_neg = streak_neg.size\n",
    "\n",
    "strikes_pos = np.where(strikes_bn == 1)\n",
    "strikes_pos = np.asarray(strikes_pos)\n",
    "strikes_pos = strikes_pos.size\n",
    "strikes_neg = np.where(strikes_bn == -1)\n",
    "strikes_neg = np.asarray(strikes_neg)\n",
    "strikes_neg = strikes_neg.size\n",
    "\n",
    "ratio_pos = np.where(ratio_bn == 1)\n",
    "ratio_pos = np.asarray(ratio_pos)\n",
    "ratio_pos = ratio_pos.size\n",
    "ratio_neg = np.where(ratio_bn == -1)\n",
    "ratio_neg = np.asarray(ratio_neg)\n",
    "ratio_neg = ratio_neg.size\n",
    "\n",
    "corner_pos = np.where(corner == 1)\n",
    "corner_pos = np.asarray(corner_pos)\n",
    "corner_pos = corner_pos.size\n",
    "corner_neg = corner.size - corner_pos\n",
    "corner_neg = np.where(corner == 0)\n",
    "corner_neg = np.asarray(corner_neg)\n",
    "corner_neg = corner_neg.size\n",
    "\n",
    "takedowns_pos = np.where(takedowns == 1)\n",
    "takedowns_pos = np.asarray(takedowns_pos)\n",
    "takedowns_pos = takedowns_pos.size\n",
    "takedowns_neg = takedowns.size - takedowns_pos\n",
    "takedowns_neg = np.where(takedowns == 0)\n",
    "takedowns_neg = np.asarray(takedowns_neg)\n",
    "takedowns_neg = takedowns_neg.size\n",
    "\n",
    "pos = (reach_pos/reach_bn.size, age_pos/age_bn.size, streak_pos/streak_bn.size, \\\n",
    "       strikes_pos/strikes_bn.size, ratio_pos/ratio_bn.size, corner_pos/corner.size, weight_pos/weight_bn.size, height_pos/height_bn.size, \\\n",
    "       takedowns_pos/takedowns_bn.size)\n",
    "neg = (reach_neg/reach_bn.size, age_neg/age_bn.size, streak_neg/streak_bn.size, \\\n",
    "       strikes_neg/strikes_bn.size, ratio_neg/ratio_bn.size, corner_neg/corner.size, weight_neg/weight_bn.size, height_neg/height_bn.size, \\\n",
    "       takedowns_neg/takedowns_bn.size)"
   ]
  },
  {
   "cell_type": "markdown",
   "metadata": {},
   "source": [
    "Bar plot showing positive or negative differences\n"
   ]
  },
  {
   "cell_type": "code",
   "execution_count": 12,
   "metadata": {},
   "outputs": [
    {
     "data": {
      "text/plain": [
       "<matplotlib.legend.Legend at 0x1291abf50>"
      ]
     },
     "execution_count": 12,
     "metadata": {},
     "output_type": "execute_result"
    },
    {
     "data": {
      "image/png": "[encoded data removed]",
      "text/plain": [
       "<Figure size 432x288 with 1 Axes>"
      ]
     },
     "metadata": {
      "needs_background": "light"
     },
     "output_type": "display_data"
    }
   ],
   "source": [
    "barWidth = 0.25\n",
    "r1 = np.arange(len(ind)); plt.bar(r1, pos, color='blue',width=barWidth, edgecolor='white', label='var1')\n",
    "r2 = [x + barWidth for x in r1]; plt.bar(r2, neg, color='orange',width=barWidth, edgecolor='white', label='var1')\n",
    "plt.xticks(ind, ('reach', 'age', 'streak', 'strikes', 'W2L','red','weight','height','takedowns'))\n",
    "plt.legend((p1[0], p2[0]), ('Higher', 'Lower'))"
   ]
  },
  {
   "cell_type": "markdown",
   "metadata": {},
   "source": [
    "**About 65% of the time the winning fighter proceeds from the red corder**\n"
   ]
  },
  {
   "cell_type": "markdown",
   "metadata": {},
   "source": [
    "Relative differences for each category are sorted to aid visualization of most impactful features"
   ]
  },
  {
   "cell_type": "code",
   "execution_count": 13,
   "metadata": {},
   "outputs": [
    {
     "data": {
      "text/plain": [
       "Text(0.5, 1.0, 'Factors sorted by potential impact in determining the winner')"
      ]
     },
     "execution_count": 13,
     "metadata": {},
     "output_type": "execute_result"
    },
    {
     "data": {
      "image/png": "[encoded data removed]",
      "text/plain": [
       "<Figure size 432x288 with 1 Axes>"
      ]
     },
     "metadata": {
      "needs_background": "light"
     },
     "output_type": "display_data"
    }
   ],
   "source": [
    "pos = np.asarray(pos)\n",
    "neg = np.asarray(neg)\n",
    "dif = np.abs(pos - neg)\n",
    "features = ['reach', 'age', 'streak', 'strikes', 'W2L','Corner Color','weight','height','takedowns']\n",
    "pre_df2 = np.stack((dif, features),1)\n",
    "pre_df2 = pd.DataFrame(pre_df2,columns = ['dif','features'])\n",
    "df2 = pre_df2.sort_values(by=['dif'])\n",
    "df2['dif'] = df2['dif'].astype(float)\n",
    "df2.plot.barh(x='features', y='dif')\n",
    "plt.xlabel('Absolute relative difference')\n",
    "plt.ylabel('Factor ranking')\n",
    "plt.title('Factors sorted by potential impact in determining the winner')"
   ]
  },
  {
   "cell_type": "markdown",
   "metadata": {},
   "source": [
    "After corner color, age, the win to lose (W2L) ratio, and the current winning streak are potentially the most useful features to predict a fight outcome"
   ]
  },
  {
   "cell_type": "markdown",
   "metadata": {},
   "source": [
    "**Logistic regression:** A logistic regression model was fitted to classify a fight as \"win\" (1) or \"lose\" for the \"red fighter\". Features included in the regression are: \"age\", \"W2L\", and \"streak\"\n"
   ]
  },
  {
   "cell_type": "code",
   "execution_count": 15,
   "metadata": {},
   "outputs": [
    {
     "data": {
      "text/plain": [
       "array([[  8, 317],\n",
       "       [ 20, 553]])"
      ]
     },
     "execution_count": 15,
     "metadata": {},
     "output_type": "execute_result"
    }
   ],
   "source": [
    "# Store relevant features in a new data frame\n",
    "pre_data_frame = np.stack((age,ratio,streak,winner_bn),axis = 1)\n",
    "df2 = pd.DataFrame(pre_data_frame,columns = ['Age','W2L','Streak','Winner'])\n",
    "feature_cols = ['Age','W2L','Streak']\n",
    "\n",
    "X = df2[feature_cols] # Features\n",
    "y = df2.Winner # Target variable\n",
    "\n",
    "#Here, the Dataset is broken into two parts in a ratio of 75:25. It means 75% data will be used for model training and 25% for model testing.\n",
    "X_train,X_test,y_train,y_test=train_test_split(X,y,test_size=0.25,random_state=0) \n",
    "\n",
    "# instantiate the model (using the default parameters)\n",
    "logreg = LogisticRegression()    \n",
    "\n",
    "# fit the model with data\n",
    "logreg.fit(X_train,y_train)\n",
    "y_pred=logreg.predict(X_test)\n",
    "\n",
    "# Output confussion matrix\n",
    "cnf_matrix = metrics.confusion_matrix(y_test, y_pred)\n",
    "cnf_matrix"
   ]
  },
  {
   "cell_type": "markdown",
   "metadata": {},
   "source": [
    "**Confusion Matrix visualization**"
   ]
  },
  {
   "cell_type": "code",
   "execution_count": 19,
   "metadata": {},
   "outputs": [
    {
     "name": "stdout",
     "output_type": "stream",
     "text": [
      "Accuracy: 0.6247216035634744\n"
     ]
    },
    {
     "data": {
      "image/png": "[encoded data removed]",
      "text/plain": [
       "<Figure size 432x288 with 2 Axes>"
      ]
     },
     "metadata": {
      "needs_background": "light"
     },
     "output_type": "display_data"
    }
   ],
   "source": [
    "import seaborn as sns\n",
    "class_names=[0,1] # name  of classes\n",
    "#fig, ax = plt.subplots()\n",
    "#tick_marks = np.arange(len(class_names))\n",
    "#plt.xticks(tick_marks, class_names)\n",
    "#plt.yticks(tick_marks, class_names)\n",
    "class_names=[0,1] # name  of classes\n",
    "#fig, ax = plt.subplots()\n",
    "tick_marks = np.arange(len(class_names))\n",
    "#plt.xticks(tick_marks, class_names)\n",
    "#plt.yticks(tick_marks, class_names)\n",
    "# create heatmap\n",
    "sns.heatmap(pd.DataFrame(cnf_matrix), annot=True, cmap=\"YlGnBu\" ,fmt='g')\n",
    "plt.tight_layout()\n",
    "plt.title('Confusion matrix', y=1.1)\n",
    "plt.ylabel('Actual label')\n",
    "plt.xlabel('Predicted label')\n",
    "print(\"Accuracy:\",metrics.accuracy_score(y_test, y_pred))"
   ]
  },
  {
   "cell_type": "markdown",
   "metadata": {},
   "source": [
    "**The model shows an accuracy of 62 %. However, the target label is biased towards the red corner (i.e., it is most likely for the red fighter to win than for the blue fighter)**"
   ]
  },
  {
   "cell_type": "markdown",
   "metadata": {},
   "source": [
    "In MMA the red corner is typically assigned to the fighter with highest ranking. The ranking summarizes a large amount information from human \"experts\". Hence, it is not entirely surprising that the color assigned to a fighter has a high predictive power."
   ]
  },
  {
   "cell_type": "markdown",
   "metadata": {},
   "source": [
    "**Fight outcome prediction may be improved by altering the probability threshold assigned to determine a winning fight**. Since a red corner fighter has inherently a higher chance of winning, one could assign a prediction as positive with a probability outcome < 50 %."
   ]
  },
  {
   "cell_type": "markdown",
   "metadata": {},
   "source": [
    "**Sensitivity experiment for the probabiity threshold**"
   ]
  },
  {
   "cell_type": "code",
   "execution_count": 20,
   "metadata": {},
   "outputs": [],
   "source": [
    "# Compare different detection thresholds of probability       \n",
    "prob = logreg.predict_proba(X_test)\n",
    "tholds = np.arange(0.1, 0.9, 0.05)       \n",
    "y_pred2 = np.zeros((len(y_pred),len(tholds)))       \n",
    "for ii in range(len(tholds)):\n",
    "    thold = tholds[ii]\n",
    "    for n in range(len(prob)):\n",
    "        if prob[n,0] >= thold:\n",
    "           y_pred2[n,ii] = 0\n",
    "        elif prob[n,0] < thold:\n",
    "           y_pred2[n,ii] = 1 \n",
    "\n",
    "accuracies = np.zeros(len(tholds))\n",
    "precisions = np.zeros(len(tholds))\n",
    "recalls = np.zeros(len(tholds))\n",
    "f1s = np.zeros(len(tholds))\n",
    "for n in range(len(tholds)):\n",
    "    accuracies[n] = metrics.accuracy_score(y_test, y_pred2[:,n])\n",
    "    precisions[n] = metrics.precision_score(y_test, y_pred2[:,n])\n",
    "    recalls[n] = metrics.recall_score(y_test, y_pred2[:,n])\n",
    "    f1s[n] = metrics.f1_score(y_test, y_pred2[:,n])"
   ]
  },
  {
   "cell_type": "markdown",
   "metadata": {},
   "source": [
    "**Plot model metrics as a function of the probability threshold**\n"
   ]
  },
  {
   "cell_type": "code",
   "execution_count": 21,
   "metadata": {},
   "outputs": [
    {
     "data": {
      "image/png": "[encoded data removed]",
      "text/plain": [
       "<Figure size 432x288 with 1 Axes>"
      ]
     },
     "metadata": {
      "needs_background": "light"
     },
     "output_type": "display_data"
    }
   ],
   "source": [
    "fig = plt.figure()\n",
    "ax1 = fig.add_subplot(111)\n",
    "ax1.scatter(tholds, accuracies, s=10, c='b', marker=\"s\", label='accuracy')\n",
    "ax1.scatter(tholds,precisions, s=10, c='r', marker=\"o\", label='precision')\n",
    "ax1.scatter(tholds,recalls, s=10, c='g', marker=\"*\", label='recall')\n",
    "ax1.scatter(tholds,f1s, s=10, c='k', marker=\"p\", label='F1')\n",
    "plt.legend(loc='lower right');\n",
    "plt.xlabel('Threshold')   \n",
    "plt.ylabel('Metric') \n",
    "plt.show()"
   ]
  },
  {
   "cell_type": "markdown",
   "metadata": {},
   "source": [
    "**Conclusion:** A probability threshold between 35% and 40% leads to a higher precision, by maintining a relatively high accuracy and overall F1 score"
   ]
  },
  {
   "cell_type": "markdown",
   "metadata": {},
   "source": [
    "The log-regression has an overall accuracy of about 65% in predicting the right outcome of a fight for a red corner fighter. **Potential ways of improving fight prediction** include the addition of new features that account for a fighters techniques"
   ]
  },
  {
   "cell_type": "code",
   "execution_count": null,
   "metadata": {},
   "outputs": [],
   "source": []
  }
 ],
 "metadata": {
  "kernelspec": {
   "display_name": "Python 3",
   "language": "python",
   "name": "python3"
  },
  "language_info": {
   "codemirror_mode": {
    "name": "ipython",
    "version": 3
   },
   "file_extension": ".py",
   "mimetype": "text/x-python",
   "name": "python",
   "nbconvert_exporter": "python",
   "pygments_lexer": "ipython3",
   "version": "3.7.4"
  }
 },
 "nbformat": 4,
 "nbformat_minor": 4
}
